{
 "cells": [
  {
   "cell_type": "markdown",
   "id": "7a4d1c2e",
   "metadata": {},
   "source": [
    "# Identifying Crocodiles Using Classification\n",
    "### Author: Adrian Khlim"
   ]
  },
  {
   "cell_type": "markdown",
   "id": "82734035",
   "metadata": {},
   "source": []
  },
  {
   "cell_type": "code",
   "execution_count": 2,
   "metadata": {},
   "outputs": [],
   "source": [
    "import pandas as pd\n",
    "import seaborn as sns\n",
    "import matplotlib.pyplot as plt"
   ]
  },
  {
   "cell_type": "code",
   "execution_count": 3,
   "id": "f93660dc",
   "metadata": {},
   "outputs": [],
   "source": [
    "crocodile_data = pd.read_csv(\"crocodile_dataset.csv\")"
   ]
  },
  {
   "cell_type": "code",
   "execution_count": 33,
   "id": "b4c5ba1c",
   "metadata": {},
   "outputs": [
    {
     "data": {
      "text/html": [
       "<div>\n",
       "<style scoped>\n",
       "    .dataframe tbody tr th:only-of-type {\n",
       "        vertical-align: middle;\n",
       "    }\n",
       "\n",
       "    .dataframe tbody tr th {\n",
       "        vertical-align: top;\n",
       "    }\n",
       "\n",
       "    .dataframe thead th {\n",
       "        text-align: right;\n",
       "    }\n",
       "</style>\n",
       "<table border=\"1\" class=\"dataframe\">\n",
       "  <thead>\n",
       "    <tr style=\"text-align: right;\">\n",
       "      <th></th>\n",
       "      <th>Observation ID</th>\n",
       "      <th>Common Name</th>\n",
       "      <th>Scientific Name</th>\n",
       "      <th>Family</th>\n",
       "      <th>Genus</th>\n",
       "      <th>Observed Length (m)</th>\n",
       "      <th>Observed Weight (kg)</th>\n",
       "      <th>Age Class</th>\n",
       "      <th>Sex</th>\n",
       "      <th>Date of Observation</th>\n",
       "      <th>Country/Region</th>\n",
       "      <th>Habitat Type</th>\n",
       "      <th>Conservation Status</th>\n",
       "      <th>Observer Name</th>\n",
       "      <th>Notes</th>\n",
       "      <th>Observed Length (ft)</th>\n",
       "      <th>Observed Weight (lbs)</th>\n",
       "    </tr>\n",
       "  </thead>\n",
       "  <tbody>\n",
       "    <tr>\n",
       "      <th>0</th>\n",
       "      <td>1</td>\n",
       "      <td>Morelet's Crocodile</td>\n",
       "      <td>Crocodylus moreletii</td>\n",
       "      <td>Crocodylidae</td>\n",
       "      <td>Crocodylus</td>\n",
       "      <td>1.90</td>\n",
       "      <td>62.0</td>\n",
       "      <td>Adult</td>\n",
       "      <td>Male</td>\n",
       "      <td>31-03-2018</td>\n",
       "      <td>Belize</td>\n",
       "      <td>Swamps</td>\n",
       "      <td>Least Concern</td>\n",
       "      <td>Allison Hill</td>\n",
       "      <td>Cause bill scientist nation opportunity.</td>\n",
       "      <td>6.233596</td>\n",
       "      <td>136.686440</td>\n",
       "    </tr>\n",
       "    <tr>\n",
       "      <th>1</th>\n",
       "      <td>2</td>\n",
       "      <td>American Crocodile</td>\n",
       "      <td>Crocodylus acutus</td>\n",
       "      <td>Crocodylidae</td>\n",
       "      <td>Crocodylus</td>\n",
       "      <td>4.09</td>\n",
       "      <td>334.5</td>\n",
       "      <td>Adult</td>\n",
       "      <td>Male</td>\n",
       "      <td>28-01-2015</td>\n",
       "      <td>Venezuela</td>\n",
       "      <td>Mangroves</td>\n",
       "      <td>Vulnerable</td>\n",
       "      <td>Brandon Hall</td>\n",
       "      <td>Ago current practice nation determine operatio...</td>\n",
       "      <td>13.418636</td>\n",
       "      <td>737.445390</td>\n",
       "    </tr>\n",
       "    <tr>\n",
       "      <th>2</th>\n",
       "      <td>3</td>\n",
       "      <td>Orinoco Crocodile</td>\n",
       "      <td>Crocodylus intermedius</td>\n",
       "      <td>Crocodylidae</td>\n",
       "      <td>Crocodylus</td>\n",
       "      <td>1.08</td>\n",
       "      <td>118.2</td>\n",
       "      <td>Juvenile</td>\n",
       "      <td>Unknown</td>\n",
       "      <td>07-12-2010</td>\n",
       "      <td>Venezuela</td>\n",
       "      <td>Flooded Savannas</td>\n",
       "      <td>Critically Endangered</td>\n",
       "      <td>Melissa Peterson</td>\n",
       "      <td>Democratic shake bill here grow gas enough ana...</td>\n",
       "      <td>3.543307</td>\n",
       "      <td>260.586084</td>\n",
       "    </tr>\n",
       "    <tr>\n",
       "      <th>3</th>\n",
       "      <td>4</td>\n",
       "      <td>Morelet's Crocodile</td>\n",
       "      <td>Crocodylus moreletii</td>\n",
       "      <td>Crocodylidae</td>\n",
       "      <td>Crocodylus</td>\n",
       "      <td>2.42</td>\n",
       "      <td>90.4</td>\n",
       "      <td>Adult</td>\n",
       "      <td>Male</td>\n",
       "      <td>01-11-2019</td>\n",
       "      <td>Mexico</td>\n",
       "      <td>Rivers</td>\n",
       "      <td>Least Concern</td>\n",
       "      <td>Edward Fuller</td>\n",
       "      <td>Officer relate animal direction eye bag do.</td>\n",
       "      <td>7.939633</td>\n",
       "      <td>199.297648</td>\n",
       "    </tr>\n",
       "    <tr>\n",
       "      <th>4</th>\n",
       "      <td>5</td>\n",
       "      <td>Mugger Crocodile (Marsh Crocodile)</td>\n",
       "      <td>Crocodylus palustris</td>\n",
       "      <td>Crocodylidae</td>\n",
       "      <td>Crocodylus</td>\n",
       "      <td>3.75</td>\n",
       "      <td>269.4</td>\n",
       "      <td>Adult</td>\n",
       "      <td>Unknown</td>\n",
       "      <td>15-07-2019</td>\n",
       "      <td>India</td>\n",
       "      <td>Rivers</td>\n",
       "      <td>Vulnerable</td>\n",
       "      <td>Donald Reid</td>\n",
       "      <td>Class great prove reduce raise author play mov...</td>\n",
       "      <td>12.303150</td>\n",
       "      <td>593.924628</td>\n",
       "    </tr>\n",
       "  </tbody>\n",
       "</table>\n",
       "</div>"
      ],
      "text/plain": [
       "   Observation ID                         Common Name         Scientific Name  \\\n",
       "0               1                 Morelet's Crocodile    Crocodylus moreletii   \n",
       "1               2                  American Crocodile       Crocodylus acutus   \n",
       "2               3                   Orinoco Crocodile  Crocodylus intermedius   \n",
       "3               4                 Morelet's Crocodile    Crocodylus moreletii   \n",
       "4               5  Mugger Crocodile (Marsh Crocodile)    Crocodylus palustris   \n",
       "\n",
       "         Family       Genus  Observed Length (m)  Observed Weight (kg)  \\\n",
       "0  Crocodylidae  Crocodylus                 1.90                  62.0   \n",
       "1  Crocodylidae  Crocodylus                 4.09                 334.5   \n",
       "2  Crocodylidae  Crocodylus                 1.08                 118.2   \n",
       "3  Crocodylidae  Crocodylus                 2.42                  90.4   \n",
       "4  Crocodylidae  Crocodylus                 3.75                 269.4   \n",
       "\n",
       "  Age Class      Sex Date of Observation Country/Region      Habitat Type  \\\n",
       "0     Adult     Male          31-03-2018         Belize            Swamps   \n",
       "1     Adult     Male          28-01-2015      Venezuela         Mangroves   \n",
       "2  Juvenile  Unknown          07-12-2010      Venezuela  Flooded Savannas   \n",
       "3     Adult     Male          01-11-2019         Mexico            Rivers   \n",
       "4     Adult  Unknown          15-07-2019          India            Rivers   \n",
       "\n",
       "     Conservation Status     Observer Name  \\\n",
       "0          Least Concern      Allison Hill   \n",
       "1             Vulnerable      Brandon Hall   \n",
       "2  Critically Endangered  Melissa Peterson   \n",
       "3          Least Concern     Edward Fuller   \n",
       "4             Vulnerable       Donald Reid   \n",
       "\n",
       "                                               Notes  Observed Length (ft)  \\\n",
       "0           Cause bill scientist nation opportunity.              6.233596   \n",
       "1  Ago current practice nation determine operatio...             13.418636   \n",
       "2  Democratic shake bill here grow gas enough ana...              3.543307   \n",
       "3        Officer relate animal direction eye bag do.              7.939633   \n",
       "4  Class great prove reduce raise author play mov...             12.303150   \n",
       "\n",
       "   Observed Weight (lbs)  \n",
       "0             136.686440  \n",
       "1             737.445390  \n",
       "2             260.586084  \n",
       "3             199.297648  \n",
       "4             593.924628  "
      ]
     },
     "execution_count": 33,
     "metadata": {},
     "output_type": "execute_result"
    }
   ],
   "source": [
    "crocodile_data.head()"
   ]
  },
  {
   "cell_type": "markdown",
   "id": "954b7306",
   "metadata": {},
   "source": [
    "Checking my features (columns)"
   ]
  },
  {
   "cell_type": "code",
   "execution_count": 5,
   "id": "8ff16e55",
   "metadata": {},
   "outputs": [
    {
     "data": {
      "text/plain": [
       "Index(['Observation ID', 'Common Name', 'Scientific Name', 'Family', 'Genus',\n",
       "       'Observed Length (m)', 'Observed Weight (kg)', 'Age Class', 'Sex',\n",
       "       'Date of Observation', 'Country/Region', 'Habitat Type',\n",
       "       'Conservation Status', 'Observer Name', 'Notes'],\n",
       "      dtype='object')"
      ]
     },
     "execution_count": 5,
     "metadata": {},
     "output_type": "execute_result"
    }
   ],
   "source": [
    "crocodile_data.columns"
   ]
  },
  {
   "cell_type": "code",
   "execution_count": 27,
   "id": "6fa6d134",
   "metadata": {},
   "outputs": [
    {
     "name": "stdout",
     "output_type": "stream",
     "text": [
      "Observation ID\n",
      "Common Name\n",
      "Scientific Name\n",
      "Family\n",
      "Genus\n",
      "Observed Length (m)\n",
      "Observed Weight (kg)\n",
      "Age Class\n",
      "Sex\n",
      "Date of Observation\n",
      "Country/Region\n",
      "Habitat Type\n",
      "Conservation Status\n",
      "Observer Name\n",
      "Notes\n"
     ]
    }
   ],
   "source": [
    "print(\"\\n\".join([col for col in crocodile_data.columns]))"
   ]
  },
  {
   "cell_type": "code",
   "execution_count": 29,
   "id": "fc97ae57",
   "metadata": {},
   "outputs": [],
   "source": [
    "crocodile_data[\"Observed Length (ft)\"] = crocodile_data[\"Observed Length (m)\"] * 3.28084"
   ]
  },
  {
   "cell_type": "code",
   "execution_count": 30,
   "id": "41890dc9",
   "metadata": {},
   "outputs": [],
   "source": [
    "crocodile_data[\"Observed Weight (lbs)\"] = crocodile_data[\"Observed Weight (kg)\"] * 2.20462"
   ]
  },
  {
   "cell_type": "code",
   "execution_count": 31,
   "id": "2b0acfbf",
   "metadata": {},
   "outputs": [
    {
     "data": {
      "text/plain": [
       "Observation ID           0\n",
       "Common Name              0\n",
       "Scientific Name          0\n",
       "Family                   0\n",
       "Genus                    0\n",
       "Observed Length (m)      0\n",
       "Observed Weight (kg)     0\n",
       "Age Class                0\n",
       "Sex                      0\n",
       "Date of Observation      0\n",
       "Country/Region           0\n",
       "Habitat Type             0\n",
       "Conservation Status      0\n",
       "Observer Name            0\n",
       "Notes                    0\n",
       "Observed Length (ft)     0\n",
       "Observed Weight (lbs)    0\n",
       "dtype: int64"
      ]
     },
     "execution_count": 31,
     "metadata": {},
     "output_type": "execute_result"
    }
   ],
   "source": [
    "crocodile_data.isnull().sum()"
   ]
  },
  {
   "cell_type": "code",
   "execution_count": 32,
   "id": "3267d582",
   "metadata": {},
   "outputs": [
    {
     "data": {
      "text/plain": [
       "Observation ID             int64\n",
       "Common Name               object\n",
       "Scientific Name           object\n",
       "Family                    object\n",
       "Genus                     object\n",
       "Observed Length (m)      float64\n",
       "Observed Weight (kg)     float64\n",
       "Age Class                 object\n",
       "Sex                       object\n",
       "Date of Observation       object\n",
       "Country/Region            object\n",
       "Habitat Type              object\n",
       "Conservation Status       object\n",
       "Observer Name             object\n",
       "Notes                     object\n",
       "Observed Length (ft)     float64\n",
       "Observed Weight (lbs)    float64\n",
       "dtype: object"
      ]
     },
     "execution_count": 32,
     "metadata": {},
     "output_type": "execute_result"
    }
   ],
   "source": [
    "crocodile_data.dtypes"
   ]
  },
  {
   "cell_type": "code",
   "execution_count": 12,
   "id": "dd7bf7a8",
   "metadata": {},
   "outputs": [
    {
     "data": {
      "text/html": [
       "<div>\n",
       "<style scoped>\n",
       "    .dataframe tbody tr th:only-of-type {\n",
       "        vertical-align: middle;\n",
       "    }\n",
       "\n",
       "    .dataframe tbody tr th {\n",
       "        vertical-align: top;\n",
       "    }\n",
       "\n",
       "    .dataframe thead th {\n",
       "        text-align: right;\n",
       "    }\n",
       "</style>\n",
       "<table border=\"1\" class=\"dataframe\">\n",
       "  <thead>\n",
       "    <tr style=\"text-align: right;\">\n",
       "      <th></th>\n",
       "      <th>Observation ID</th>\n",
       "      <th>Observed Length (m)</th>\n",
       "      <th>Observed Weight (kg)</th>\n",
       "    </tr>\n",
       "  </thead>\n",
       "  <tbody>\n",
       "    <tr>\n",
       "      <th>count</th>\n",
       "      <td>1000.000000</td>\n",
       "      <td>1000.000000</td>\n",
       "      <td>1000.000000</td>\n",
       "    </tr>\n",
       "    <tr>\n",
       "      <th>mean</th>\n",
       "      <td>500.500000</td>\n",
       "      <td>2.415110</td>\n",
       "      <td>155.771900</td>\n",
       "    </tr>\n",
       "    <tr>\n",
       "      <th>std</th>\n",
       "      <td>288.819436</td>\n",
       "      <td>1.097542</td>\n",
       "      <td>175.186788</td>\n",
       "    </tr>\n",
       "    <tr>\n",
       "      <th>min</th>\n",
       "      <td>1.000000</td>\n",
       "      <td>0.140000</td>\n",
       "      <td>4.400000</td>\n",
       "    </tr>\n",
       "    <tr>\n",
       "      <th>25%</th>\n",
       "      <td>250.750000</td>\n",
       "      <td>1.637500</td>\n",
       "      <td>53.225000</td>\n",
       "    </tr>\n",
       "    <tr>\n",
       "      <th>50%</th>\n",
       "      <td>500.500000</td>\n",
       "      <td>2.430000</td>\n",
       "      <td>100.600000</td>\n",
       "    </tr>\n",
       "    <tr>\n",
       "      <th>75%</th>\n",
       "      <td>750.250000</td>\n",
       "      <td>3.010000</td>\n",
       "      <td>168.875000</td>\n",
       "    </tr>\n",
       "    <tr>\n",
       "      <th>max</th>\n",
       "      <td>1000.000000</td>\n",
       "      <td>6.120000</td>\n",
       "      <td>1139.700000</td>\n",
       "    </tr>\n",
       "  </tbody>\n",
       "</table>\n",
       "</div>"
      ],
      "text/plain": [
       "       Observation ID  Observed Length (m)  Observed Weight (kg)\n",
       "count     1000.000000          1000.000000           1000.000000\n",
       "mean       500.500000             2.415110            155.771900\n",
       "std        288.819436             1.097542            175.186788\n",
       "min          1.000000             0.140000              4.400000\n",
       "25%        250.750000             1.637500             53.225000\n",
       "50%        500.500000             2.430000            100.600000\n",
       "75%        750.250000             3.010000            168.875000\n",
       "max       1000.000000             6.120000           1139.700000"
      ]
     },
     "execution_count": 12,
     "metadata": {},
     "output_type": "execute_result"
    }
   ],
   "source": [
    "crocodile_data.describe()"
   ]
  },
  {
   "cell_type": "markdown",
   "id": "64a25362",
   "metadata": {},
   "source": [
    "I want to classify based on any statistical data, what kind of crocodile a crocodile is. Thus, their genus will be my classification label, so I want to know what kind of genera (plural for genus, I know it's kind of cool) one is and how many labels I will have."
   ]
  },
  {
   "cell_type": "code",
   "execution_count": 13,
   "id": "54f06a21",
   "metadata": {},
   "outputs": [
    {
     "data": {
      "text/plain": [
       "count           1000\n",
       "unique             3\n",
       "top       Crocodylus\n",
       "freq             784\n",
       "Name: Genus, dtype: object"
      ]
     },
     "execution_count": 13,
     "metadata": {},
     "output_type": "execute_result"
    }
   ],
   "source": [
    "crocodile_data[\"Genus\"].describe()"
   ]
  },
  {
   "cell_type": "code",
   "execution_count": null,
   "id": "98a3109f",
   "metadata": {},
   "outputs": [
    {
     "data": {
      "text/plain": [
       "Genus\n",
       "Crocodylus     784\n",
       "Mecistops      111\n",
       "Osteolaemus    105\n",
       "Name: count, dtype: int64"
      ]
     },
     "execution_count": 16,
     "metadata": {},
     "output_type": "execute_result"
    }
   ],
   "source": [
    "crocodile_data[\"Genus\"].value_counts() "
   ]
  },
  {
   "cell_type": "markdown",
   "id": "5ce82063",
   "metadata": {},
   "source": [
    "Okay, sweet, I have 3 Genera:\n",
    "- Crocodylus\n",
    "- Mecistops\n",
    "- Osteolaemus"
   ]
  },
  {
   "cell_type": "code",
   "execution_count": null,
   "id": "2090d37f",
   "metadata": {},
   "outputs": [],
   "source": []
  }
 ],
 "metadata": {
  "kernelspec": {
   "display_name": "base",
   "language": "python",
   "name": "python3"
  },
  "language_info": {
   "codemirror_mode": {
    "name": "ipython",
    "version": 3
   },
   "file_extension": ".py",
   "mimetype": "text/x-python",
   "name": "python",
   "nbconvert_exporter": "python",
   "pygments_lexer": "ipython3",
   "version": "3.12.7"
  }
 },
 "nbformat": 4,
 "nbformat_minor": 5
}
